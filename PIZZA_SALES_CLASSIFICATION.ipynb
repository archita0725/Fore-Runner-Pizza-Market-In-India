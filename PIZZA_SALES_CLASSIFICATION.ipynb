{
 "cells": [
  {
   "cell_type": "code",
   "execution_count": null,
   "metadata": {
    "id": "g4ZhJhSmhxC-"
   },
   "outputs": [],
   "source": [
    "import pandas as pd\n",
    "import numpy as np\n",
    "import matplotlib.pyplot as plt\n",
    "from sklearn import preprocessing\n",
    "from collections import Counter\n",
    "import seaborn as sns\n",
    "import warnings\n",
    "warnings.filterwarnings(\"ignore\")"
   ]
  },
  {
   "cell_type": "markdown",
   "metadata": {
    "id": "p0IAklAQiA-B"
   },
   "source": [
    "# EXPLORATORY DATA ANALYSIS"
   ]
  },
  {
   "cell_type": "code",
   "execution_count": null,
   "metadata": {
    "colab": {
     "base_uri": "https://localhost:8080/",
     "height": 476
    },
    "id": "qAV5RqFOiDz_",
    "outputId": "fd01ba50-a3b6-4ace-f2d9-59e477e7ec1f"
   },
   "outputs": [
    {
     "data": {
      "text/html": [
       "\n",
       "  <div id=\"df-c4fee48c-f50f-4ad7-a106-606c3aab7078\">\n",
       "    <div class=\"colab-df-container\">\n",
       "      <div>\n",
       "<style scoped>\n",
       "    .dataframe tbody tr th:only-of-type {\n",
       "        vertical-align: middle;\n",
       "    }\n",
       "\n",
       "    .dataframe tbody tr th {\n",
       "        vertical-align: top;\n",
       "    }\n",
       "\n",
       "    .dataframe thead th {\n",
       "        text-align: right;\n",
       "    }\n",
       "</style>\n",
       "<table border=\"1\" class=\"dataframe\">\n",
       "  <thead>\n",
       "    <tr style=\"text-align: right;\">\n",
       "      <th></th>\n",
       "      <th>Age</th>\n",
       "      <th>How many pizzas do you have on average, on a monthly basis?</th>\n",
       "      <th>How do you prefer to eat pizza?</th>\n",
       "      <th>What kind of pizza crust do you prefer most?</th>\n",
       "      <th>Which type of pizza toppings do you prefer?</th>\n",
       "      <th>What kind of combo meal would you prefer with pizza?</th>\n",
       "      <th>When do you usually like to have a pizza?</th>\n",
       "      <th>Which Brand of pizza do you prefer the most?</th>\n",
       "      <th>Would you like to order pizza in any random cafe?</th>\n",
       "    </tr>\n",
       "  </thead>\n",
       "  <tbody>\n",
       "    <tr>\n",
       "      <th>0</th>\n",
       "      <td>20-30</td>\n",
       "      <td>1-5</td>\n",
       "      <td>Both</td>\n",
       "      <td>Stuffed crust</td>\n",
       "      <td>Non veg</td>\n",
       "      <td>Pizza + A bottle of Coca cola</td>\n",
       "      <td>With friends</td>\n",
       "      <td>Dominos</td>\n",
       "      <td>No</td>\n",
       "    </tr>\n",
       "    <tr>\n",
       "      <th>1</th>\n",
       "      <td>20-30</td>\n",
       "      <td>1-5</td>\n",
       "      <td>Eating out</td>\n",
       "      <td>Stuffed crust</td>\n",
       "      <td>Non veg</td>\n",
       "      <td>Pizza + A bottle of Coca cola</td>\n",
       "      <td>With friends</td>\n",
       "      <td>Dominos</td>\n",
       "      <td>Yes, of course</td>\n",
       "    </tr>\n",
       "    <tr>\n",
       "      <th>2</th>\n",
       "      <td>20-30</td>\n",
       "      <td>1-5</td>\n",
       "      <td>Both</td>\n",
       "      <td>Cheese crust</td>\n",
       "      <td>Non veg</td>\n",
       "      <td>Pizza + A bottle of Coca cola</td>\n",
       "      <td>With friends</td>\n",
       "      <td>Dominos</td>\n",
       "      <td>No</td>\n",
       "    </tr>\n",
       "    <tr>\n",
       "      <th>3</th>\n",
       "      <td>20-30</td>\n",
       "      <td>1-5</td>\n",
       "      <td>Home delivery</td>\n",
       "      <td>Cheese crust</td>\n",
       "      <td>Veg</td>\n",
       "      <td>Pizza + A bottle of Coca cola</td>\n",
       "      <td>Spending alone time watching movies and having...</td>\n",
       "      <td>Dominos</td>\n",
       "      <td>No</td>\n",
       "    </tr>\n",
       "    <tr>\n",
       "      <th>4</th>\n",
       "      <td>20-30</td>\n",
       "      <td>1-5</td>\n",
       "      <td>Eating out</td>\n",
       "      <td>Cheese crust</td>\n",
       "      <td>Non veg</td>\n",
       "      <td>Pizza + A bottle of Coca cola</td>\n",
       "      <td>Spending alone time watching movies and having...</td>\n",
       "      <td>Others</td>\n",
       "      <td>No</td>\n",
       "    </tr>\n",
       "  </tbody>\n",
       "</table>\n",
       "</div>\n",
       "      <button class=\"colab-df-convert\" onclick=\"convertToInteractive('df-c4fee48c-f50f-4ad7-a106-606c3aab7078')\"\n",
       "              title=\"Convert this dataframe to an interactive table.\"\n",
       "              style=\"display:none;\">\n",
       "        \n",
       "  <svg xmlns=\"http://www.w3.org/2000/svg\" height=\"24px\"viewBox=\"0 0 24 24\"\n",
       "       width=\"24px\">\n",
       "    <path d=\"M0 0h24v24H0V0z\" fill=\"none\"/>\n",
       "    <path d=\"M18.56 5.44l.94 2.06.94-2.06 2.06-.94-2.06-.94-.94-2.06-.94 2.06-2.06.94zm-11 1L8.5 8.5l.94-2.06 2.06-.94-2.06-.94L8.5 2.5l-.94 2.06-2.06.94zm10 10l.94 2.06.94-2.06 2.06-.94-2.06-.94-.94-2.06-.94 2.06-2.06.94z\"/><path d=\"M17.41 7.96l-1.37-1.37c-.4-.4-.92-.59-1.43-.59-.52 0-1.04.2-1.43.59L10.3 9.45l-7.72 7.72c-.78.78-.78 2.05 0 2.83L4 21.41c.39.39.9.59 1.41.59.51 0 1.02-.2 1.41-.59l7.78-7.78 2.81-2.81c.8-.78.8-2.07 0-2.86zM5.41 20L4 18.59l7.72-7.72 1.47 1.35L5.41 20z\"/>\n",
       "  </svg>\n",
       "      </button>\n",
       "      \n",
       "  <style>\n",
       "    .colab-df-container {\n",
       "      display:flex;\n",
       "      flex-wrap:wrap;\n",
       "      gap: 12px;\n",
       "    }\n",
       "\n",
       "    .colab-df-convert {\n",
       "      background-color: #E8F0FE;\n",
       "      border: none;\n",
       "      border-radius: 50%;\n",
       "      cursor: pointer;\n",
       "      display: none;\n",
       "      fill: #1967D2;\n",
       "      height: 32px;\n",
       "      padding: 0 0 0 0;\n",
       "      width: 32px;\n",
       "    }\n",
       "\n",
       "    .colab-df-convert:hover {\n",
       "      background-color: #E2EBFA;\n",
       "      box-shadow: 0px 1px 2px rgba(60, 64, 67, 0.3), 0px 1px 3px 1px rgba(60, 64, 67, 0.15);\n",
       "      fill: #174EA6;\n",
       "    }\n",
       "\n",
       "    [theme=dark] .colab-df-convert {\n",
       "      background-color: #3B4455;\n",
       "      fill: #D2E3FC;\n",
       "    }\n",
       "\n",
       "    [theme=dark] .colab-df-convert:hover {\n",
       "      background-color: #434B5C;\n",
       "      box-shadow: 0px 1px 3px 1px rgba(0, 0, 0, 0.15);\n",
       "      filter: drop-shadow(0px 1px 2px rgba(0, 0, 0, 0.3));\n",
       "      fill: #FFFFFF;\n",
       "    }\n",
       "  </style>\n",
       "\n",
       "      <script>\n",
       "        const buttonEl =\n",
       "          document.querySelector('#df-c4fee48c-f50f-4ad7-a106-606c3aab7078 button.colab-df-convert');\n",
       "        buttonEl.style.display =\n",
       "          google.colab.kernel.accessAllowed ? 'block' : 'none';\n",
       "\n",
       "        async function convertToInteractive(key) {\n",
       "          const element = document.querySelector('#df-c4fee48c-f50f-4ad7-a106-606c3aab7078');\n",
       "          const dataTable =\n",
       "            await google.colab.kernel.invokeFunction('convertToInteractive',\n",
       "                                                     [key], {});\n",
       "          if (!dataTable) return;\n",
       "\n",
       "          const docLinkHtml = 'Like what you see? Visit the ' +\n",
       "            '<a target=\"_blank\" href=https://colab.research.google.com/notebooks/data_table.ipynb>data table notebook</a>'\n",
       "            + ' to learn more about interactive tables.';\n",
       "          element.innerHTML = '';\n",
       "          dataTable['output_type'] = 'display_data';\n",
       "          await google.colab.output.renderOutput(dataTable, element);\n",
       "          const docLink = document.createElement('div');\n",
       "          docLink.innerHTML = docLinkHtml;\n",
       "          element.appendChild(docLink);\n",
       "        }\n",
       "      </script>\n",
       "    </div>\n",
       "  </div>\n",
       "  "
      ],
      "text/plain": [
       "     Age  ... Would you like to order pizza in any random cafe?\n",
       "0  20-30  ...                                                No\n",
       "1  20-30  ...                                    Yes, of course\n",
       "2  20-30  ...                                                No\n",
       "3  20-30  ...                                                No\n",
       "4  20-30  ...                                                No\n",
       "\n",
       "[5 rows x 9 columns]"
      ]
     },
     "execution_count": 3,
     "metadata": {},
     "output_type": "execute_result"
    }
   ],
   "source": [
    "#importing the dataset\n",
    "data = pd.read_excel(r'C:\\Users\\Archita Biswas\\Dropbox\\My PC (LAPTOP-ILMTPGHN)\\Documents\\pizza sales.xlsx')\n",
    "data.head()"
   ]
  },
  {
   "cell_type": "code",
   "execution_count": null,
   "metadata": {
    "id": "RewzzdRniPQ-"
   },
   "outputs": [],
   "source": [
    "data.rename(columns={'How many pizzas do you have on average, on a monthly basis?':'Monthly Consumption',\n",
    "                     'How do you prefer to eat pizza?':'Eating Preference',\n",
    "                     'What kind of pizza crust do you prefer most?':'Preferred Pizza Crust',\n",
    "                     'Which type of pizza toppings do you prefer?':'Preferred Pizza Toppings',\n",
    "                     'What kind of combo meal would you prefer with pizza?':'Preferred Combo Meal',\n",
    "                     'When do you usually like to have a pizza?':'Situation for Pizza Consumption',\n",
    "                     'Which Brand of pizza do you prefer the most?':'Pizza Brand Preference',\n",
    "                     'Would you like to order pizza in any random cafe?':'Pizza at any cafe?'},inplace=True)"
   ]
  },
  {
   "cell_type": "code",
   "execution_count": null,
   "metadata": {
    "colab": {
     "base_uri": "https://localhost:8080/",
     "height": 389
    },
    "id": "cuqWAvs1iTAe",
    "outputId": "2e05bd1a-66a6-4bec-893a-ec0d08b3788e"
   },
   "outputs": [
    {
     "data": {
      "text/html": [
       "\n",
       "  <div id=\"df-4ecf4628-d63d-4cd3-a528-8182dcba6297\">\n",
       "    <div class=\"colab-df-container\">\n",
       "      <div>\n",
       "<style scoped>\n",
       "    .dataframe tbody tr th:only-of-type {\n",
       "        vertical-align: middle;\n",
       "    }\n",
       "\n",
       "    .dataframe tbody tr th {\n",
       "        vertical-align: top;\n",
       "    }\n",
       "\n",
       "    .dataframe thead th {\n",
       "        text-align: right;\n",
       "    }\n",
       "</style>\n",
       "<table border=\"1\" class=\"dataframe\">\n",
       "  <thead>\n",
       "    <tr style=\"text-align: right;\">\n",
       "      <th></th>\n",
       "      <th>Age</th>\n",
       "      <th>Monthly Consumption</th>\n",
       "      <th>Eating Preference</th>\n",
       "      <th>Preferred Pizza Crust</th>\n",
       "      <th>Preferred Pizza Toppings</th>\n",
       "      <th>Preferred Combo Meal</th>\n",
       "      <th>Situation for Pizza Consumption</th>\n",
       "      <th>Pizza Brand Preference</th>\n",
       "      <th>Pizza at any cafe?</th>\n",
       "    </tr>\n",
       "  </thead>\n",
       "  <tbody>\n",
       "    <tr>\n",
       "      <th>0</th>\n",
       "      <td>20-30</td>\n",
       "      <td>1-5</td>\n",
       "      <td>Both</td>\n",
       "      <td>Stuffed crust</td>\n",
       "      <td>Non veg</td>\n",
       "      <td>Pizza + A bottle of Coca cola</td>\n",
       "      <td>With friends</td>\n",
       "      <td>Dominos</td>\n",
       "      <td>No</td>\n",
       "    </tr>\n",
       "    <tr>\n",
       "      <th>1</th>\n",
       "      <td>20-30</td>\n",
       "      <td>1-5</td>\n",
       "      <td>Eating out</td>\n",
       "      <td>Stuffed crust</td>\n",
       "      <td>Non veg</td>\n",
       "      <td>Pizza + A bottle of Coca cola</td>\n",
       "      <td>With friends</td>\n",
       "      <td>Dominos</td>\n",
       "      <td>Yes, of course</td>\n",
       "    </tr>\n",
       "    <tr>\n",
       "      <th>2</th>\n",
       "      <td>20-30</td>\n",
       "      <td>1-5</td>\n",
       "      <td>Both</td>\n",
       "      <td>Cheese crust</td>\n",
       "      <td>Non veg</td>\n",
       "      <td>Pizza + A bottle of Coca cola</td>\n",
       "      <td>With friends</td>\n",
       "      <td>Dominos</td>\n",
       "      <td>No</td>\n",
       "    </tr>\n",
       "    <tr>\n",
       "      <th>3</th>\n",
       "      <td>20-30</td>\n",
       "      <td>1-5</td>\n",
       "      <td>Home delivery</td>\n",
       "      <td>Cheese crust</td>\n",
       "      <td>Veg</td>\n",
       "      <td>Pizza + A bottle of Coca cola</td>\n",
       "      <td>Spending alone time watching movies and having...</td>\n",
       "      <td>Dominos</td>\n",
       "      <td>No</td>\n",
       "    </tr>\n",
       "    <tr>\n",
       "      <th>4</th>\n",
       "      <td>20-30</td>\n",
       "      <td>1-5</td>\n",
       "      <td>Eating out</td>\n",
       "      <td>Cheese crust</td>\n",
       "      <td>Non veg</td>\n",
       "      <td>Pizza + A bottle of Coca cola</td>\n",
       "      <td>Spending alone time watching movies and having...</td>\n",
       "      <td>Others</td>\n",
       "      <td>No</td>\n",
       "    </tr>\n",
       "  </tbody>\n",
       "</table>\n",
       "</div>\n",
       "      <button class=\"colab-df-convert\" onclick=\"convertToInteractive('df-4ecf4628-d63d-4cd3-a528-8182dcba6297')\"\n",
       "              title=\"Convert this dataframe to an interactive table.\"\n",
       "              style=\"display:none;\">\n",
       "        \n",
       "  <svg xmlns=\"http://www.w3.org/2000/svg\" height=\"24px\"viewBox=\"0 0 24 24\"\n",
       "       width=\"24px\">\n",
       "    <path d=\"M0 0h24v24H0V0z\" fill=\"none\"/>\n",
       "    <path d=\"M18.56 5.44l.94 2.06.94-2.06 2.06-.94-2.06-.94-.94-2.06-.94 2.06-2.06.94zm-11 1L8.5 8.5l.94-2.06 2.06-.94-2.06-.94L8.5 2.5l-.94 2.06-2.06.94zm10 10l.94 2.06.94-2.06 2.06-.94-2.06-.94-.94-2.06-.94 2.06-2.06.94z\"/><path d=\"M17.41 7.96l-1.37-1.37c-.4-.4-.92-.59-1.43-.59-.52 0-1.04.2-1.43.59L10.3 9.45l-7.72 7.72c-.78.78-.78 2.05 0 2.83L4 21.41c.39.39.9.59 1.41.59.51 0 1.02-.2 1.41-.59l7.78-7.78 2.81-2.81c.8-.78.8-2.07 0-2.86zM5.41 20L4 18.59l7.72-7.72 1.47 1.35L5.41 20z\"/>\n",
       "  </svg>\n",
       "      </button>\n",
       "      \n",
       "  <style>\n",
       "    .colab-df-container {\n",
       "      display:flex;\n",
       "      flex-wrap:wrap;\n",
       "      gap: 12px;\n",
       "    }\n",
       "\n",
       "    .colab-df-convert {\n",
       "      background-color: #E8F0FE;\n",
       "      border: none;\n",
       "      border-radius: 50%;\n",
       "      cursor: pointer;\n",
       "      display: none;\n",
       "      fill: #1967D2;\n",
       "      height: 32px;\n",
       "      padding: 0 0 0 0;\n",
       "      width: 32px;\n",
       "    }\n",
       "\n",
       "    .colab-df-convert:hover {\n",
       "      background-color: #E2EBFA;\n",
       "      box-shadow: 0px 1px 2px rgba(60, 64, 67, 0.3), 0px 1px 3px 1px rgba(60, 64, 67, 0.15);\n",
       "      fill: #174EA6;\n",
       "    }\n",
       "\n",
       "    [theme=dark] .colab-df-convert {\n",
       "      background-color: #3B4455;\n",
       "      fill: #D2E3FC;\n",
       "    }\n",
       "\n",
       "    [theme=dark] .colab-df-convert:hover {\n",
       "      background-color: #434B5C;\n",
       "      box-shadow: 0px 1px 3px 1px rgba(0, 0, 0, 0.15);\n",
       "      filter: drop-shadow(0px 1px 2px rgba(0, 0, 0, 0.3));\n",
       "      fill: #FFFFFF;\n",
       "    }\n",
       "  </style>\n",
       "\n",
       "      <script>\n",
       "        const buttonEl =\n",
       "          document.querySelector('#df-4ecf4628-d63d-4cd3-a528-8182dcba6297 button.colab-df-convert');\n",
       "        buttonEl.style.display =\n",
       "          google.colab.kernel.accessAllowed ? 'block' : 'none';\n",
       "\n",
       "        async function convertToInteractive(key) {\n",
       "          const element = document.querySelector('#df-4ecf4628-d63d-4cd3-a528-8182dcba6297');\n",
       "          const dataTable =\n",
       "            await google.colab.kernel.invokeFunction('convertToInteractive',\n",
       "                                                     [key], {});\n",
       "          if (!dataTable) return;\n",
       "\n",
       "          const docLinkHtml = 'Like what you see? Visit the ' +\n",
       "            '<a target=\"_blank\" href=https://colab.research.google.com/notebooks/data_table.ipynb>data table notebook</a>'\n",
       "            + ' to learn more about interactive tables.';\n",
       "          element.innerHTML = '';\n",
       "          dataTable['output_type'] = 'display_data';\n",
       "          await google.colab.output.renderOutput(dataTable, element);\n",
       "          const docLink = document.createElement('div');\n",
       "          docLink.innerHTML = docLinkHtml;\n",
       "          element.appendChild(docLink);\n",
       "        }\n",
       "      </script>\n",
       "    </div>\n",
       "  </div>\n",
       "  "
      ],
      "text/plain": [
       "     Age Monthly Consumption  ... Pizza Brand Preference Pizza at any cafe?\n",
       "0  20-30                 1-5  ...                Dominos                 No\n",
       "1  20-30                 1-5  ...                Dominos     Yes, of course\n",
       "2  20-30                 1-5  ...                Dominos                 No\n",
       "3  20-30                 1-5  ...                Dominos                 No\n",
       "4  20-30                 1-5  ...                 Others                 No\n",
       "\n",
       "[5 rows x 9 columns]"
      ]
     },
     "execution_count": 5,
     "metadata": {},
     "output_type": "execute_result"
    }
   ],
   "source": [
    "data.head()"
   ]
  },
  {
   "cell_type": "code",
   "execution_count": null,
   "metadata": {
    "colab": {
     "base_uri": "https://localhost:8080/",
     "height": 300
    },
    "id": "EUR0FPYkiX-R",
    "outputId": "e3e95ed6-a8e6-428e-b181-3366861928f2"
   },
   "outputs": [
    {
     "data": {
      "text/plain": [
       "(0.0, 250.0)"
      ]
     },
     "execution_count": 6,
     "metadata": {},
     "output_type": "execute_result"
    },
    {
     "data": {
      "image/png": "[encoded data removed]",
      "text/plain": [
       "<Figure size 432x288 with 1 Axes>"
      ]
     },
     "metadata": {
      "needs_background": "light"
     },
     "output_type": "display_data"
    }
   ],
   "source": [
    "sns.countplot(x='Age',data=data)\n",
    "plt.ylim([0,250])"
   ]
  },
  {
   "cell_type": "code",
   "execution_count": null,
   "metadata": {
    "colab": {
     "base_uri": "https://localhost:8080/",
     "height": 248
    },
    "id": "H4hCZ8w1iYri",
    "outputId": "ab5a8268-f087-46fd-acd7-3142397b8591"
   },
   "outputs": [
    {
     "data": {
      "image/png": "[encoded data removed]",
      "text/plain": [
       "<Figure size 432x288 with 1 Axes>"
      ]
     },
     "metadata": {},
     "output_type": "display_data"
    }
   ],
   "source": [
    "data['Age'].value_counts()\n",
    "labels=['20-30','31-40','More than 40','Less than 20']\n",
    "sizes=[222,20,36,43]\n",
    "plt.pie(sizes,labels=labels,startangle=90,autopct='%1.1f%%')\n",
    "plt.axis('equal')\n",
    "plt.show()"
   ]
  },
  {
   "cell_type": "markdown",
   "metadata": {
    "id": "_dDZB6pQigGq"
   },
   "source": [
    "We can observe that pizza consumption is most popular among the age groups of 20-30 (69.2% of the people participating in the survey) and less than 20 (13.4% of the people), which is a very common observation because pizza is mostly consumed by younger people only. Surprisingly, there are some significant amount of observations regarding pizza consumption in the age group of more than 40 (i.e., 11.2%) whereas, consumption is least for the people of age group 31-40 (i.e., 6.2% of the people)."
   ]
  },
  {
   "cell_type": "code",
   "execution_count": null,
   "metadata": {
    "colab": {
     "base_uri": "https://localhost:8080/",
     "height": 298
    },
    "id": "4WAXAnA3ijHq",
    "outputId": "01e12390-d678-407f-e8c8-bafeb20f54d4"
   },
   "outputs": [
    {
     "data": {
      "text/plain": [
       "<matplotlib.axes._subplots.AxesSubplot at 0x7ff4087ea050>"
      ]
     },
     "execution_count": 8,
     "metadata": {},
     "output_type": "execute_result"
    },
    {
     "data": {
      "image/png": "[encoded data removed]",
      "text/plain": [
       "<Figure size 432x288 with 1 Axes>"
      ]
     },
     "metadata": {
      "needs_background": "light"
     },
     "output_type": "display_data"
    }
   ],
   "source": [
    "sns.countplot(x='Monthly Consumption',data=data)"
   ]
  },
  {
   "cell_type": "code",
   "execution_count": null,
   "metadata": {
    "colab": {
     "base_uri": "https://localhost:8080/",
     "height": 248
    },
    "id": "ANJ4zsC9inna",
    "outputId": "f1b16e8b-2860-4343-f417-3d86e9073cc7"
   },
   "outputs": [
    {
     "data": {
      "image/png": "[encoded data removed]",
      "text/plain": [
       "<Figure size 432x288 with 1 Axes>"
      ]
     },
     "metadata": {},
     "output_type": "display_data"
    }
   ],
   "source": [
    "data['Monthly Consumption'].value_counts()\n",
    "labels=['1-5','5-10','More than 10','None']\n",
    "sizes=[242,19,4,56]\n",
    "plt.pie(sizes,labels=labels,startangle=90,autopct='%1.1f%%')\n",
    "plt.axis('equal')\n",
    "plt.show()"
   ]
  },
  {
   "cell_type": "markdown",
   "metadata": {
    "id": "OOewWO0NirqZ"
   },
   "source": [
    "We can see that most of the people i.e., 75.4% of the people, consume around 1-5 pizzas in a month and around 50-60 people i.e., 17.4% of the people don't even have pizza in a month. We can say that these people are very health conscious and they try to maintain a healthy diet. On the other hand, we can see that there are very few people, 5.9%, who consume 5-10 pizzas and around 1.2% of the people consume more than 10 pizzas on a monthly basis. They need an immediate change in their eating habits as frequent consumption of such high calorie food can be very harmful for their health."
   ]
  },
  {
   "cell_type": "code",
   "execution_count": null,
   "metadata": {
    "colab": {
     "base_uri": "https://localhost:8080/",
     "height": 296
    },
    "id": "Mve6ON2TitvX",
    "outputId": "14437388-e6fb-4f55-a783-757496cdc143"
   },
   "outputs": [
    {
     "data": {
      "text/plain": [
       "<matplotlib.axes._subplots.AxesSubplot at 0x7ff408757c90>"
      ]
     },
     "execution_count": 10,
     "metadata": {},
     "output_type": "execute_result"
    },
    {
     "data": {
      "image/png": "[encoded data removed]",
      "text/plain": [
       "<Figure size 432x288 with 1 Axes>"
      ]
     },
     "metadata": {
      "needs_background": "light"
     },
     "output_type": "display_data"
    }
   ],
   "source": [
    "sns.countplot(x='Eating Preference',data=data)"
   ]
  },
  {
   "cell_type": "code",
   "execution_count": null,
   "metadata": {
    "colab": {
     "base_uri": "https://localhost:8080/",
     "height": 251
    },
    "id": "GGQK0ZxziwMW",
    "outputId": "817ae2ea-9ca6-4cbe-a141-38d87949d06a"
   },
   "outputs": [
    {
     "data": {
      "image/png": "[encoded data removed]",
      "text/plain": [
       "<Figure size 432x288 with 1 Axes>"
      ]
     },
     "metadata": {},
     "output_type": "display_data"
    }
   ],
   "source": [
    "data['Eating Preference'].value_counts()\n",
    "labels=['Both','Eating out','Home Delivery']\n",
    "sizes=[143,49,129]\n",
    "plt.pie(sizes,labels=labels,startangle=90,autopct='%1.1f%%')\n",
    "plt.axis('equal')\n",
    "plt.show()"
   ]
  },
  {
   "cell_type": "markdown",
   "metadata": {
    "id": "9W8m8AoOizAK"
   },
   "source": [
    "We can see that most of the people who participated in the survey i.e., 44.5% of the people prefer both home delivery as well as eating out perhaps in a pizza outlet of their preferred choice. On a particular basis, 40.2% of the people prefer home delivery more, maybe because of the ongoing pandemic situation."
   ]
  },
  {
   "cell_type": "code",
   "execution_count": null,
   "metadata": {
    "colab": {
     "base_uri": "https://localhost:8080/",
     "height": 354
    },
    "id": "jkdzmBudi0yf",
    "outputId": "092b34ba-2fee-48d7-fb00-e55059f8c0a6"
   },
   "outputs": [
    {
     "data": {
      "text/plain": [
       "<matplotlib.axes._subplots.AxesSubplot at 0x7ff408639f10>"
      ]
     },
     "execution_count": 12,
     "metadata": {},
     "output_type": "execute_result"
    },
    {
     "data": {
      "image/png": "[encoded data removed]",
      "text/plain": [
       "<Figure size 576x360 with 1 Axes>"
      ]
     },
     "metadata": {
      "needs_background": "light"
     },
     "output_type": "display_data"
    }
   ],
   "source": [
    "plt.figure(figsize=(8,5))\n",
    "sns.countplot(x='Preferred Pizza Crust',data=data)"
   ]
  },
  {
   "cell_type": "code",
   "execution_count": null,
   "metadata": {
    "colab": {
     "base_uri": "https://localhost:8080/",
     "height": 252
    },
    "id": "TQJSqKWFi2dC",
    "outputId": "afa51ced-2424-419f-9bfc-157a90869455"
   },
   "outputs": [
    {
     "data": {
      "image/png": "[encoded data removed]",
      "text/plain": [
       "<Figure size 432x288 with 1 Axes>"
      ]
     },
     "metadata": {},
     "output_type": "display_data"
    }
   ],
   "source": [
    "data['Preferred Pizza Crust'].value_counts()\n",
    "labels=['Stuffed crust','Cheese crust','Thin crust','Thick crust','Flat bread crust']\n",
    "sizes=[21,153,98,36,13]\n",
    "plt.pie(sizes,labels=labels,startangle=90,autopct='%1.1f%%')\n",
    "plt.axis('equal')\n",
    "plt.show()"
   ]
  },
  {
   "cell_type": "markdown",
   "metadata": {
    "id": "eVhzXEw6i6KF"
   },
   "source": [
    "As we can observe that 47.7% of the people love cheese crust pizza and coming second on the list of popularity is the thin crust pizza and it is loved by around 30.5% of the people. There is also a slight demand for thick crust pizza but the popularity for stuffed crust and flat bread crust is very less."
   ]
  },
  {
   "cell_type": "code",
   "execution_count": null,
   "metadata": {
    "colab": {
     "base_uri": "https://localhost:8080/",
     "height": 296
    },
    "id": "3z79Nx-di77L",
    "outputId": "a132d523-05f9-4af8-f8b0-8762330e9bcf"
   },
   "outputs": [
    {
     "data": {
      "text/plain": [
       "<matplotlib.axes._subplots.AxesSubplot at 0x7ff408548c90>"
      ]
     },
     "execution_count": 14,
     "metadata": {},
     "output_type": "execute_result"
    },
    {
     "data": {
      "image/png": "[encoded data removed]",
      "text/plain": [
       "<Figure size 432x288 with 1 Axes>"
      ]
     },
     "metadata": {
      "needs_background": "light"
     },
     "output_type": "display_data"
    }
   ],
   "source": [
    "sns.countplot(x='Preferred Pizza Toppings',data=data)"
   ]
  },
  {
   "cell_type": "code",
   "execution_count": null,
   "metadata": {
    "colab": {
     "base_uri": "https://localhost:8080/",
     "height": 248
    },
    "id": "XZrBzsYajEtX",
    "outputId": "2bf4e9c2-000c-4540-e137-b733e6e5c8d6"
   },
   "outputs": [
    {
     "data": {
      "image/png": "[encoded data removed]",
      "text/plain": [
       "<Figure size 432x288 with 1 Axes>"
      ]
     },
     "metadata": {},
     "output_type": "display_data"
    }
   ],
   "source": [
    "data['Preferred Pizza Toppings'].value_counts()\n",
    "labels=['Non veg','Veg']\n",
    "sizes=[269,52]\n",
    "plt.pie(sizes,labels=labels,startangle=90,autopct='%1.1f%%')\n",
    "plt.axis('equal')\n",
    "plt.show()"
   ]
  },
  {
   "cell_type": "markdown",
   "metadata": {
    "id": "gMoEGdSTjHea"
   },
   "source": [
    "As we can see, that this feature is quite biased. The majority of the people who have taken part in the survey, i.e., 83.8% of the people love non veg topping while the remaining 16.2% of the people love veg toppings on their pizza.\n"
   ]
  },
  {
   "cell_type": "code",
   "execution_count": null,
   "metadata": {
    "colab": {
     "base_uri": "https://localhost:8080/",
     "height": 351
    },
    "id": "9M3LV-o2jJOM",
    "outputId": "ab855dd5-2bb2-45e2-e67b-422895056454"
   },
   "outputs": [
    {
     "data": {
      "text/plain": [
       "<matplotlib.axes._subplots.AxesSubplot at 0x7ff408524590>"
      ]
     },
     "execution_count": 16,
     "metadata": {},
     "output_type": "execute_result"
    },
    {
     "data": {
      "image/png": "[encoded data removed]",
      "text/plain": [
       "<Figure size 1080x360 with 1 Axes>"
      ]
     },
     "metadata": {
      "needs_background": "light"
     },
     "output_type": "display_data"
    }
   ],
   "source": [
    "plt.figure(figsize=(15,5))\n",
    "sns.countplot(x='Preferred Combo Meal',data=data)"
   ]
  },
  {
   "cell_type": "code",
   "execution_count": null,
   "metadata": {
    "colab": {
     "base_uri": "https://localhost:8080/",
     "height": 251
    },
    "id": "9tyT2BGujL3B",
    "outputId": "765ae4ec-0637-4283-88c9-1c29080dcebb"
   },
   "outputs": [
    {
     "data": {
      "image/png": "[encoded data removed]",
      "text/plain": [
       "<Figure size 432x288 with 1 Axes>"
      ]
     },
     "metadata": {},
     "output_type": "display_data"
    }
   ],
   "source": [
    "data['Preferred Combo Meal'].value_counts()\n",
    "labels=['Pizza+Coke','Pizza+Choco Lava Cake','Pizza+Tea/Coffee','Others','Pizza+Icecream']\n",
    "sizes=[221,54,14,12,20]\n",
    "plt.pie(sizes,labels=labels,startangle=90,autopct='%1.1f%%')\n",
    "plt.axis('equal')\n",
    "plt.show()"
   ]
  },
  {
   "cell_type": "markdown",
   "metadata": {
    "id": "aAjNUL0EjPOr"
   },
   "source": [
    "We can see that most of the people i.e.,68.8% of the people prefer having Coca-Cola along with their pizza, whereas around 16.8% of the people like having a choco lava cake as a side dish. Not many of the poeple like having ice cream or some hot beverage with their pizza and a very few amount of people have something else."
   ]
  },
  {
   "cell_type": "code",
   "execution_count": null,
   "metadata": {
    "colab": {
     "base_uri": "https://localhost:8080/",
     "height": 351
    },
    "id": "wyQJdiYfjRHQ",
    "outputId": "17929ea7-5e4a-4ac5-e792-b5653dc39dbc"
   },
   "outputs": [
    {
     "data": {
      "text/plain": [
       "<matplotlib.axes._subplots.AxesSubplot at 0x7ff408406590>"
      ]
     },
     "execution_count": 18,
     "metadata": {},
     "output_type": "execute_result"
    },
    {
     "data": {
      "image/png": "[encoded data removed]",
      "text/plain": [
       "<Figure size 1296x360 with 1 Axes>"
      ]
     },
     "metadata": {
      "needs_background": "light"
     },
     "output_type": "display_data"
    }
   ],
   "source": [
    "plt.figure(figsize=(18,5))\n",
    "sns.countplot(x='Situation for Pizza Consumption',data=data)"
   ]
  },
  {
   "cell_type": "code",
   "execution_count": null,
   "metadata": {
    "colab": {
     "base_uri": "https://localhost:8080/",
     "height": 252
    },
    "id": "icSebg-KjTDO",
    "outputId": "beb60ccf-71ea-476c-ef94-5a5c24df5c55"
   },
   "outputs": [
    {
     "data": {
      "image/png": "[encoded data removed]",
      "text/plain": [
       "<Figure size 432x288 with 1 Axes>"
      ]
     },
     "metadata": {},
     "output_type": "display_data"
    }
   ],
   "source": [
    "data['Situation for Pizza Consumption'].value_counts()\n",
    "labels=['With Friends','Watching movies alone','With Family','Others']\n",
    "sizes=[150,58,99,14]\n",
    "plt.pie(sizes,labels=labels,startangle=90,autopct='%1.1f%%')\n",
    "plt.axis('equal')\n",
    "plt.show()"
   ]
  },
  {
   "cell_type": "markdown",
   "metadata": {
    "id": "bqFmMXSLjWYM"
   },
   "source": [
    "As we can observe, around 46.7% of the people like having pizza with their friends whereas around 30.8% of the people like having pizza with their family. There is a significant amount of people as well who like to have pizza when they are spending some alone time watching movies. This 18.1% of the people who like to have pizza while watching a movie alone surely cover a significant portion of people preferring home delivery."
   ]
  },
  {
   "cell_type": "code",
   "execution_count": null,
   "metadata": {
    "colab": {
     "base_uri": "https://localhost:8080/",
     "height": 296
    },
    "id": "czc9DyTrjYdR",
    "outputId": "730f83db-687a-4a5d-c152-5280c44cb755"
   },
   "outputs": [
    {
     "data": {
      "text/plain": [
       "<matplotlib.axes._subplots.AxesSubplot at 0x7ff41e415c90>"
      ]
     },
     "execution_count": 20,
     "metadata": {},
     "output_type": "execute_result"
    },
    {
     "data": {
      "image/png": "[encoded data removed]",
      "text/plain": [
       "<Figure size 432x288 with 1 Axes>"
      ]
     },
     "metadata": {
      "needs_background": "light"
     },
     "output_type": "display_data"
    }
   ],
   "source": [
    "sns.countplot(x='Pizza at any cafe?',data=data)"
   ]
  },
  {
   "cell_type": "code",
   "execution_count": null,
   "metadata": {
    "colab": {
     "base_uri": "https://localhost:8080/",
     "height": 248
    },
    "id": "wbT8pJsujaGe",
    "outputId": "f0ad8be5-abf8-46ec-bfb1-f224c665f9b7"
   },
   "outputs": [
    {
     "data": {
      "image/png": "[encoded data removed]",
      "text/plain": [
       "<Figure size 432x288 with 1 Axes>"
      ]
     },
     "metadata": {},
     "output_type": "display_data"
    }
   ],
   "source": [
    "data['Pizza at any cafe?'].value_counts()\n",
    "labels=['Do not have pizza at any cafe','Have pizza at any cafe']\n",
    "sizes=[166,155]\n",
    "plt.pie(sizes,labels=labels,startangle=90,autopct='%1.1f%%')\n",
    "plt.axis('equal')\n",
    "plt.show()"
   ]
  },
  {
   "cell_type": "markdown",
   "metadata": {
    "id": "LLvxqx98jctS"
   },
   "source": [
    "There is significant amount of people on both ends. 51.7% of the people do not like to have pizza at any random cafe whereas 48.3% of the people like to have pizza at any cafe."
   ]
  },
  {
   "cell_type": "code",
   "execution_count": null,
   "metadata": {
    "colab": {
     "base_uri": "https://localhost:8080/",
     "height": 296
    },
    "id": "xVufponljfou",
    "outputId": "af4998d1-1413-48d1-87a9-192f6cf77ca1"
   },
   "outputs": [
    {
     "data": {
      "text/plain": [
       "<matplotlib.axes._subplots.AxesSubplot at 0x7ff40845c050>"
      ]
     },
     "execution_count": 22,
     "metadata": {},
     "output_type": "execute_result"
    },
    {
     "data": {
      "image/png": "[encoded data removed]",
      "text/plain": [
       "<Figure size 432x288 with 1 Axes>"
      ]
     },
     "metadata": {
      "needs_background": "light"
     },
     "output_type": "display_data"
    }
   ],
   "source": [
    "sns.countplot(x='Pizza Brand Preference',data=data)"
   ]
  },
  {
   "cell_type": "code",
   "execution_count": null,
   "metadata": {
    "colab": {
     "base_uri": "https://localhost:8080/",
     "height": 248
    },
    "id": "iIGCgFORjhkP",
    "outputId": "7edd95ca-07ad-4488-b658-ff185ba97438"
   },
   "outputs": [
    {
     "data": {
      "image/png": "[encoded data removed]",
      "text/plain": [
       "<Figure size 432x288 with 1 Axes>"
      ]
     },
     "metadata": {},
     "output_type": "display_data"
    }
   ],
   "source": [
    "data['Pizza Brand Preference'].value_counts()\n",
    "labels=['Dominos','Others','Pizza Hut']\n",
    "sizes=[232,37,52]\n",
    "plt.pie(sizes,labels=labels,startangle=90,autopct='%1.1f%%')\n",
    "plt.axis('equal')\n",
    "plt.show()"
   ]
  },
  {
   "cell_type": "markdown",
   "metadata": {
    "id": "C4jk8TX9jkr-"
   },
   "source": [
    "Dominos is clearly in the lead with 72.3% of the total votes and Pizza Hut, with merely 16.2% of the total votes comes in the second place. There's also 11.5% of the people who prefer neither Dominos nor Pizza Hut and they prefer a different outlet of their own choice such as La Pinos Pizza, Oven Story Pizza etc.\n",
    "\n"
   ]
  },
  {
   "cell_type": "markdown",
   "metadata": {
    "id": "fcsHQPuSjnuc"
   },
   "source": [
    "# BASIC DATA WRANGLING, SPLITTING OF DATASET AND SOLVING THE ISSUE OF RESPONSE CLASS IMBALANCE USING OVERSAMPLING"
   ]
  },
  {
   "cell_type": "code",
   "execution_count": null,
   "metadata": {
    "colab": {
     "base_uri": "https://localhost:8080/",
     "height": 476
    },
    "id": "FIw067CWjmQ3",
    "outputId": "8ee8beb9-4cf5-43e2-e2d6-ceda5c3d914b"
   },
   "outputs": [
    {
     "data": {
      "text/html": [
       "\n",
       "  <div id=\"df-713bc16a-46b5-4b5a-8e98-ce310e9ea359\">\n",
       "    <div class=\"colab-df-container\">\n",
       "      <div>\n",
       "<style scoped>\n",
       "    .dataframe tbody tr th:only-of-type {\n",
       "        vertical-align: middle;\n",
       "    }\n",
       "\n",
       "    .dataframe tbody tr th {\n",
       "        vertical-align: top;\n",
       "    }\n",
       "\n",
       "    .dataframe thead th {\n",
       "        text-align: right;\n",
       "    }\n",
       "</style>\n",
       "<table border=\"1\" class=\"dataframe\">\n",
       "  <thead>\n",
       "    <tr style=\"text-align: right;\">\n",
       "      <th></th>\n",
       "      <th>Age</th>\n",
       "      <th>How many pizzas do you have on average, on a monthly basis?</th>\n",
       "      <th>How do you prefer to eat pizza?</th>\n",
       "      <th>What kind of pizza crust do you prefer most?</th>\n",
       "      <th>Which type of pizza toppings do you prefer?</th>\n",
       "      <th>What kind of combo meal would you prefer with pizza?</th>\n",
       "      <th>When do you usually like to have a pizza?</th>\n",
       "      <th>Which Brand of pizza do you prefer the most?</th>\n",
       "      <th>Would you like to order pizza in any random cafe?</th>\n",
       "    </tr>\n",
       "  </thead>\n",
       "  <tbody>\n",
       "    <tr>\n",
       "      <th>0</th>\n",
       "      <td>20-30</td>\n",
       "      <td>1-5</td>\n",
       "      <td>Both</td>\n",
       "      <td>Stuffed crust</td>\n",
       "      <td>Non veg</td>\n",
       "      <td>Pizza + A bottle of Coca cola</td>\n",
       "      <td>With friends</td>\n",
       "      <td>Dominos</td>\n",
       "      <td>No</td>\n",
       "    </tr>\n",
       "    <tr>\n",
       "      <th>1</th>\n",
       "      <td>20-30</td>\n",
       "      <td>1-5</td>\n",
       "      <td>Eating out</td>\n",
       "      <td>Stuffed crust</td>\n",
       "      <td>Non veg</td>\n",
       "      <td>Pizza + A bottle of Coca cola</td>\n",
       "      <td>With friends</td>\n",
       "      <td>Dominos</td>\n",
       "      <td>Yes, of course</td>\n",
       "    </tr>\n",
       "    <tr>\n",
       "      <th>2</th>\n",
       "      <td>20-30</td>\n",
       "      <td>1-5</td>\n",
       "      <td>Both</td>\n",
       "      <td>Cheese crust</td>\n",
       "      <td>Non veg</td>\n",
       "      <td>Pizza + A bottle of Coca cola</td>\n",
       "      <td>With friends</td>\n",
       "      <td>Dominos</td>\n",
       "      <td>No</td>\n",
       "    </tr>\n",
       "    <tr>\n",
       "      <th>3</th>\n",
       "      <td>20-30</td>\n",
       "      <td>1-5</td>\n",
       "      <td>Home delivery</td>\n",
       "      <td>Cheese crust</td>\n",
       "      <td>Veg</td>\n",
       "      <td>Pizza + A bottle of Coca cola</td>\n",
       "      <td>Spending alone time watching movies and having...</td>\n",
       "      <td>Dominos</td>\n",
       "      <td>No</td>\n",
       "    </tr>\n",
       "    <tr>\n",
       "      <th>4</th>\n",
       "      <td>20-30</td>\n",
       "      <td>1-5</td>\n",
       "      <td>Eating out</td>\n",
       "      <td>Cheese crust</td>\n",
       "      <td>Non veg</td>\n",
       "      <td>Pizza + A bottle of Coca cola</td>\n",
       "      <td>Spending alone time watching movies and having...</td>\n",
       "      <td>Others</td>\n",
       "      <td>No</td>\n",
       "    </tr>\n",
       "  </tbody>\n",
       "</table>\n",
       "</div>\n",
       "      <button class=\"colab-df-convert\" onclick=\"convertToInteractive('df-713bc16a-46b5-4b5a-8e98-ce310e9ea359')\"\n",
       "              title=\"Convert this dataframe to an interactive table.\"\n",
       "              style=\"display:none;\">\n",
       "        \n",
       "  <svg xmlns=\"http://www.w3.org/2000/svg\" height=\"24px\"viewBox=\"0 0 24 24\"\n",
       "       width=\"24px\">\n",
       "    <path d=\"M0 0h24v24H0V0z\" fill=\"none\"/>\n",
       "    <path d=\"M18.56 5.44l.94 2.06.94-2.06 2.06-.94-2.06-.94-.94-2.06-.94 2.06-2.06.94zm-11 1L8.5 8.5l.94-2.06 2.06-.94-2.06-.94L8.5 2.5l-.94 2.06-2.06.94zm10 10l.94 2.06.94-2.06 2.06-.94-2.06-.94-.94-2.06-.94 2.06-2.06.94z\"/><path d=\"M17.41 7.96l-1.37-1.37c-.4-.4-.92-.59-1.43-.59-.52 0-1.04.2-1.43.59L10.3 9.45l-7.72 7.72c-.78.78-.78 2.05 0 2.83L4 21.41c.39.39.9.59 1.41.59.51 0 1.02-.2 1.41-.59l7.78-7.78 2.81-2.81c.8-.78.8-2.07 0-2.86zM5.41 20L4 18.59l7.72-7.72 1.47 1.35L5.41 20z\"/>\n",
       "  </svg>\n",
       "      </button>\n",
       "      \n",
       "  <style>\n",
       "    .colab-df-container {\n",
       "      display:flex;\n",
       "      flex-wrap:wrap;\n",
       "      gap: 12px;\n",
       "    }\n",
       "\n",
       "    .colab-df-convert {\n",
       "      background-color: #E8F0FE;\n",
       "      border: none;\n",
       "      border-radius: 50%;\n",
       "      cursor: pointer;\n",
       "      display: none;\n",
       "      fill: #1967D2;\n",
       "      height: 32px;\n",
       "      padding: 0 0 0 0;\n",
       "      width: 32px;\n",
       "    }\n",
       "\n",
       "    .colab-df-convert:hover {\n",
       "      background-color: #E2EBFA;\n",
       "      box-shadow: 0px 1px 2px rgba(60, 64, 67, 0.3), 0px 1px 3px 1px rgba(60, 64, 67, 0.15);\n",
       "      fill: #174EA6;\n",
       "    }\n",
       "\n",
       "    [theme=dark] .colab-df-convert {\n",
       "      background-color: #3B4455;\n",
       "      fill: #D2E3FC;\n",
       "    }\n",
       "\n",
       "    [theme=dark] .colab-df-convert:hover {\n",
       "      background-color: #434B5C;\n",
       "      box-shadow: 0px 1px 3px 1px rgba(0, 0, 0, 0.15);\n",
       "      filter: drop-shadow(0px 1px 2px rgba(0, 0, 0, 0.3));\n",
       "      fill: #FFFFFF;\n",
       "    }\n",
       "  </style>\n",
       "\n",
       "      <script>\n",
       "        const buttonEl =\n",
       "          document.querySelector('#df-713bc16a-46b5-4b5a-8e98-ce310e9ea359 button.colab-df-convert');\n",
       "        buttonEl.style.display =\n",
       "          google.colab.kernel.accessAllowed ? 'block' : 'none';\n",
       "\n",
       "        async function convertToInteractive(key) {\n",
       "          const element = document.querySelector('#df-713bc16a-46b5-4b5a-8e98-ce310e9ea359');\n",
       "          const dataTable =\n",
       "            await google.colab.kernel.invokeFunction('convertToInteractive',\n",
       "                                                     [key], {});\n",
       "          if (!dataTable) return;\n",
       "\n",
       "          const docLinkHtml = 'Like what you see? Visit the ' +\n",
       "            '<a target=\"_blank\" href=https://colab.research.google.com/notebooks/data_table.ipynb>data table notebook</a>'\n",
       "            + ' to learn more about interactive tables.';\n",
       "          element.innerHTML = '';\n",
       "          dataTable['output_type'] = 'display_data';\n",
       "          await google.colab.output.renderOutput(dataTable, element);\n",
       "          const docLink = document.createElement('div');\n",
       "          docLink.innerHTML = docLinkHtml;\n",
       "          element.appendChild(docLink);\n",
       "        }\n",
       "      </script>\n",
       "    </div>\n",
       "  </div>\n",
       "  "
      ],
      "text/plain": [
       "     Age  ... Would you like to order pizza in any random cafe?\n",
       "0  20-30  ...                                                No\n",
       "1  20-30  ...                                    Yes, of course\n",
       "2  20-30  ...                                                No\n",
       "3  20-30  ...                                                No\n",
       "4  20-30  ...                                                No\n",
       "\n",
       "[5 rows x 9 columns]"
      ]
     },
     "execution_count": 24,
     "metadata": {},
     "output_type": "execute_result"
    }
   ],
   "source": [
    "data = pd.read_excel('/content/pizza sales.xlsx')\n",
    "data.head()"
   ]
  },
  {
   "cell_type": "code",
   "execution_count": null,
   "metadata": {
    "id": "iVUp4yRVjxg2"
   },
   "outputs": [],
   "source": [
    "df = data.rename(columns={'How many pizzas do you have on average, on a monthly basis?': 'No. of pizzas in a month', \n",
    "                        'How do you prefer to eat pizza?': 'Eating preference',\n",
    "                        'What kind of pizza crust do you prefer most?':'pizza crust preference',\n",
    "                        'Which type of pizza toppings do you prefer?':'pizza toppings',\n",
    "                        'What kind of combo meal would you prefer with pizza?':'combo meal',\n",
    "                       'When do you usually like to have a pizza?':'companion while having pizza',\n",
    "                        'Would you like to order pizza in any random cafe?':'pizza of any random cafe preferable or not',\n",
    "                        'Which Brand of pizza do you prefer the most?':'Brand'})"
   ]
  },
  {
   "cell_type": "code",
   "execution_count": null,
   "metadata": {
    "id": "ATghzocQjzR7"
   },
   "outputs": [],
   "source": [
    "from sklearn.preprocessing import LabelEncoder\n",
    "le_numberofpizzas = LabelEncoder()\n",
    "le_preferenceofeating = LabelEncoder()\n",
    "le_pizzacrust = LabelEncoder()\n",
    "le_pizzatoppings = LabelEncoder()\n",
    "le_combo = LabelEncoder()\n",
    "le_companion = LabelEncoder()\n",
    "le_brand = LabelEncoder()\n",
    "le_randomcafe = LabelEncoder()\n",
    "le_age = LabelEncoder()\n",
    "\n",
    "df['Age']= le_age.fit_transform(df['Age'])\n",
    "df['No. of pizzas in a month']= le_numberofpizzas.fit_transform(df['No. of pizzas in a month'])\n",
    "df['Eating preference']= le_preferenceofeating.fit_transform(df['Eating preference'])\n",
    "df['pizza crust preference']= le_pizzacrust.fit_transform(df['pizza crust preference'])\n",
    "df['pizza toppings']= le_pizzatoppings.fit_transform(df['pizza toppings'])\n",
    "df['combo meal']= le_combo.fit_transform(df['combo meal'])\n",
    "df['companion while having pizza']= le_companion.fit_transform(df['companion while having pizza'])\n",
    "df['pizza toppings']= le_preferenceofeating.fit_transform(df['pizza toppings'])\n",
    "df['Brand']= le_brand.fit_transform(df['Brand'])\n",
    "df['pizza of any random cafe preferable or not']= le_randomcafe.fit_transform(df['pizza of any random cafe preferable or not'])"
   ]
  },
  {
   "cell_type": "code",
   "execution_count": null,
   "metadata": {
    "colab": {
     "base_uri": "https://localhost:8080/",
     "height": 267
    },
    "id": "L7QeCyxnj1L3",
    "outputId": "a03f154b-eeae-4c18-e183-ddd9afc05140"
   },
   "outputs": [
    {
     "data": {
      "text/html": [
       "\n",
       "  <div id=\"df-af3eff79-ee47-45ef-874d-3011d619cfe6\">\n",
       "    <div class=\"colab-df-container\">\n",
       "      <div>\n",
       "<style scoped>\n",
       "    .dataframe tbody tr th:only-of-type {\n",
       "        vertical-align: middle;\n",
       "    }\n",
       "\n",
       "    .dataframe tbody tr th {\n",
       "        vertical-align: top;\n",
       "    }\n",
       "\n",
       "    .dataframe thead th {\n",
       "        text-align: right;\n",
       "    }\n",
       "</style>\n",
       "<table border=\"1\" class=\"dataframe\">\n",
       "  <thead>\n",
       "    <tr style=\"text-align: right;\">\n",
       "      <th></th>\n",
       "      <th>Age</th>\n",
       "      <th>No. of pizzas in a month</th>\n",
       "      <th>Eating preference</th>\n",
       "      <th>pizza crust preference</th>\n",
       "      <th>pizza toppings</th>\n",
       "      <th>combo meal</th>\n",
       "      <th>companion while having pizza</th>\n",
       "      <th>Brand</th>\n",
       "      <th>pizza of any random cafe preferable or not</th>\n",
       "    </tr>\n",
       "  </thead>\n",
       "  <tbody>\n",
       "    <tr>\n",
       "      <th>0</th>\n",
       "      <td>0</td>\n",
       "      <td>0</td>\n",
       "      <td>0</td>\n",
       "      <td>2</td>\n",
       "      <td>0</td>\n",
       "      <td>1</td>\n",
       "      <td>3</td>\n",
       "      <td>0</td>\n",
       "      <td>0</td>\n",
       "    </tr>\n",
       "    <tr>\n",
       "      <th>1</th>\n",
       "      <td>0</td>\n",
       "      <td>0</td>\n",
       "      <td>1</td>\n",
       "      <td>2</td>\n",
       "      <td>0</td>\n",
       "      <td>1</td>\n",
       "      <td>3</td>\n",
       "      <td>0</td>\n",
       "      <td>1</td>\n",
       "    </tr>\n",
       "    <tr>\n",
       "      <th>2</th>\n",
       "      <td>0</td>\n",
       "      <td>0</td>\n",
       "      <td>0</td>\n",
       "      <td>0</td>\n",
       "      <td>0</td>\n",
       "      <td>1</td>\n",
       "      <td>3</td>\n",
       "      <td>0</td>\n",
       "      <td>0</td>\n",
       "    </tr>\n",
       "    <tr>\n",
       "      <th>3</th>\n",
       "      <td>0</td>\n",
       "      <td>0</td>\n",
       "      <td>2</td>\n",
       "      <td>0</td>\n",
       "      <td>1</td>\n",
       "      <td>1</td>\n",
       "      <td>1</td>\n",
       "      <td>0</td>\n",
       "      <td>0</td>\n",
       "    </tr>\n",
       "    <tr>\n",
       "      <th>4</th>\n",
       "      <td>0</td>\n",
       "      <td>0</td>\n",
       "      <td>1</td>\n",
       "      <td>0</td>\n",
       "      <td>0</td>\n",
       "      <td>1</td>\n",
       "      <td>1</td>\n",
       "      <td>1</td>\n",
       "      <td>0</td>\n",
       "    </tr>\n",
       "  </tbody>\n",
       "</table>\n",
       "</div>\n",
       "      <button class=\"colab-df-convert\" onclick=\"convertToInteractive('df-af3eff79-ee47-45ef-874d-3011d619cfe6')\"\n",
       "              title=\"Convert this dataframe to an interactive table.\"\n",
       "              style=\"display:none;\">\n",
       "        \n",
       "  <svg xmlns=\"http://www.w3.org/2000/svg\" height=\"24px\"viewBox=\"0 0 24 24\"\n",
       "       width=\"24px\">\n",
       "    <path d=\"M0 0h24v24H0V0z\" fill=\"none\"/>\n",
       "    <path d=\"M18.56 5.44l.94 2.06.94-2.06 2.06-.94-2.06-.94-.94-2.06-.94 2.06-2.06.94zm-11 1L8.5 8.5l.94-2.06 2.06-.94-2.06-.94L8.5 2.5l-.94 2.06-2.06.94zm10 10l.94 2.06.94-2.06 2.06-.94-2.06-.94-.94-2.06-.94 2.06-2.06.94z\"/><path d=\"M17.41 7.96l-1.37-1.37c-.4-.4-.92-.59-1.43-.59-.52 0-1.04.2-1.43.59L10.3 9.45l-7.72 7.72c-.78.78-.78 2.05 0 2.83L4 21.41c.39.39.9.59 1.41.59.51 0 1.02-.2 1.41-.59l7.78-7.78 2.81-2.81c.8-.78.8-2.07 0-2.86zM5.41 20L4 18.59l7.72-7.72 1.47 1.35L5.41 20z\"/>\n",
       "  </svg>\n",
       "      </button>\n",
       "      \n",
       "  <style>\n",
       "    .colab-df-container {\n",
       "      display:flex;\n",
       "      flex-wrap:wrap;\n",
       "      gap: 12px;\n",
       "    }\n",
       "\n",
       "    .colab-df-convert {\n",
       "      background-color: #E8F0FE;\n",
       "      border: none;\n",
       "      border-radius: 50%;\n",
       "      cursor: pointer;\n",
       "      display: none;\n",
       "      fill: #1967D2;\n",
       "      height: 32px;\n",
       "      padding: 0 0 0 0;\n",
       "      width: 32px;\n",
       "    }\n",
       "\n",
       "    .colab-df-convert:hover {\n",
       "      background-color: #E2EBFA;\n",
       "      box-shadow: 0px 1px 2px rgba(60, 64, 67, 0.3), 0px 1px 3px 1px rgba(60, 64, 67, 0.15);\n",
       "      fill: #174EA6;\n",
       "    }\n",
       "\n",
       "    [theme=dark] .colab-df-convert {\n",
       "      background-color: #3B4455;\n",
       "      fill: #D2E3FC;\n",
       "    }\n",
       "\n",
       "    [theme=dark] .colab-df-convert:hover {\n",
       "      background-color: #434B5C;\n",
       "      box-shadow: 0px 1px 3px 1px rgba(0, 0, 0, 0.15);\n",
       "      filter: drop-shadow(0px 1px 2px rgba(0, 0, 0, 0.3));\n",
       "      fill: #FFFFFF;\n",
       "    }\n",
       "  </style>\n",
       "\n",
       "      <script>\n",
       "        const buttonEl =\n",
       "          document.querySelector('#df-af3eff79-ee47-45ef-874d-3011d619cfe6 button.colab-df-convert');\n",
       "        buttonEl.style.display =\n",
       "          google.colab.kernel.accessAllowed ? 'block' : 'none';\n",
       "\n",
       "        async function convertToInteractive(key) {\n",
       "          const element = document.querySelector('#df-af3eff79-ee47-45ef-874d-3011d619cfe6');\n",
       "          const dataTable =\n",
       "            await google.colab.kernel.invokeFunction('convertToInteractive',\n",
       "                                                     [key], {});\n",
       "          if (!dataTable) return;\n",
       "\n",
       "          const docLinkHtml = 'Like what you see? Visit the ' +\n",
       "            '<a target=\"_blank\" href=https://colab.research.google.com/notebooks/data_table.ipynb>data table notebook</a>'\n",
       "            + ' to learn more about interactive tables.';\n",
       "          element.innerHTML = '';\n",
       "          dataTable['output_type'] = 'display_data';\n",
       "          await google.colab.output.renderOutput(dataTable, element);\n",
       "          const docLink = document.createElement('div');\n",
       "          docLink.innerHTML = docLinkHtml;\n",
       "          element.appendChild(docLink);\n",
       "        }\n",
       "      </script>\n",
       "    </div>\n",
       "  </div>\n",
       "  "
      ],
      "text/plain": [
       "   Age  ...  pizza of any random cafe preferable or not\n",
       "0    0  ...                                           0\n",
       "1    0  ...                                           1\n",
       "2    0  ...                                           0\n",
       "3    0  ...                                           0\n",
       "4    0  ...                                           0\n",
       "\n",
       "[5 rows x 9 columns]"
      ]
     },
     "execution_count": 27,
     "metadata": {},
     "output_type": "execute_result"
    }
   ],
   "source": [
    "df.head()"
   ]
  },
  {
   "cell_type": "code",
   "execution_count": null,
   "metadata": {
    "colab": {
     "base_uri": "https://localhost:8080/"
    },
    "id": "SiMauLrvj7p8",
    "outputId": "1e4e8d23-2a6c-4a01-d655-d6c387391aff"
   },
   "outputs": [
    {
     "data": {
      "text/plain": [
       "(321, 9)"
      ]
     },
     "execution_count": 28,
     "metadata": {},
     "output_type": "execute_result"
    }
   ],
   "source": [
    "df.shape"
   ]
  },
  {
   "cell_type": "code",
   "execution_count": null,
   "metadata": {
    "id": "5d-ucRWHj9v_"
   },
   "outputs": [],
   "source": [
    "# covariates\n",
    "x = df.iloc[:, [0,1,2,3,4,5,6,8]]\n",
    "\n",
    "# response\n",
    "y = df.iloc[:, 7]"
   ]
  },
  {
   "cell_type": "code",
   "execution_count": null,
   "metadata": {
    "id": "y5T936NjlfK8"
   },
   "outputs": [],
   "source": [
    "#Split into training and testing datasets\n",
    "from sklearn.model_selection import train_test_split\n",
    "xtrain, xtest, ytrain, ytest = train_test_split(x, y, test_size = 0.2, random_state = 0)"
   ]
  },
  {
   "cell_type": "code",
   "execution_count": null,
   "metadata": {
    "colab": {
     "base_uri": "https://localhost:8080/"
    },
    "id": "dyrbNnoxlg-v",
    "outputId": "36964238-0d6c-4b8b-fb1e-1f368ba648a1"
   },
   "outputs": [
    {
     "name": "stdout",
     "output_type": "stream",
     "text": [
      "Before OverSampling, counts of label '0': 185\n",
      "Before OverSampling, counts of label '1': 32\n",
      "Before OverSampling, counts of label '2': 39\n",
      "\n",
      "After OverSampling, counts of label '0': 185\n",
      "After OverSampling, counts of label '1': 185\n",
      "After OverSampling, counts of label '2': 185\n"
     ]
    }
   ],
   "source": [
    "#Response class counts before oversampling\n",
    "print(\"Before OverSampling, counts of label '0': {}\".format(sum(ytrain == 0)))\n",
    "print(\"Before OverSampling, counts of label '1': {}\".format(sum(ytrain == 1)))\n",
    "print(\"Before OverSampling, counts of label '2': {}\\n\".format(sum(ytrain == 2)))\n",
    "\n",
    "# import SMOTE module from imblearn library\n",
    "\n",
    "from imblearn.over_sampling import SMOTE\n",
    "sm = SMOTE(random_state = 2)\n",
    "xtrain, ytrain = sm.fit_resample(xtrain, ytrain.ravel())\n",
    "\n",
    "#Response class counts after oversampling\n",
    "print(\"After OverSampling, counts of label '0': {}\".format(sum(ytrain == 0)))\n",
    "print(\"After OverSampling, counts of label '1': {}\".format(sum(ytrain == 1)))\n",
    "print(\"After OverSampling, counts of label '2': {}\".format(sum(ytrain == 2)))"
   ]
  },
  {
   "cell_type": "markdown",
   "metadata": {
    "id": "HUR5D4z_oOFx"
   },
   "source": [
    "# CLASSIFICATION USING RANDOM FOREST"
   ]
  },
  {
   "cell_type": "code",
   "execution_count": null,
   "metadata": {
    "id": "EMAzwNWdl8Zp"
   },
   "outputs": [],
   "source": [
    "from sklearn.ensemble import RandomForestClassifier\n",
    "rf = RandomForestClassifier(random_state=5)"
   ]
  },
  {
   "cell_type": "code",
   "execution_count": null,
   "metadata": {
    "colab": {
     "base_uri": "https://localhost:8080/"
    },
    "id": "wt7iXwtwrp69",
    "outputId": "f7bcbb2f-d8ee-4e79-89d8-9eee3c4d6c50"
   },
   "outputs": [
    {
     "data": {
      "text/plain": [
       "{'bootstrap': True,\n",
       " 'ccp_alpha': 0.0,\n",
       " 'class_weight': None,\n",
       " 'criterion': 'gini',\n",
       " 'max_depth': None,\n",
       " 'max_features': 'auto',\n",
       " 'max_leaf_nodes': None,\n",
       " 'max_samples': None,\n",
       " 'min_impurity_decrease': 0.0,\n",
       " 'min_samples_leaf': 1,\n",
       " 'min_samples_split': 2,\n",
       " 'min_weight_fraction_leaf': 0.0,\n",
       " 'n_estimators': 100,\n",
       " 'n_jobs': None,\n",
       " 'oob_score': False,\n",
       " 'random_state': 5,\n",
       " 'verbose': 0,\n",
       " 'warm_start': False}"
      ]
     },
     "execution_count": 33,
     "metadata": {},
     "output_type": "execute_result"
    }
   ],
   "source": [
    "rf.get_params()"
   ]
  },
  {
   "cell_type": "code",
   "execution_count": null,
   "metadata": {
    "colab": {
     "base_uri": "https://localhost:8080/"
    },
    "id": "gSkdGVZjoqap",
    "outputId": "94fb34f7-4f34-4528-c8cb-320af73be36c"
   },
   "outputs": [
    {
     "data": {
      "text/plain": [
       "RandomForestClassifier(random_state=5)"
      ]
     },
     "execution_count": 34,
     "metadata": {},
     "output_type": "execute_result"
    }
   ],
   "source": [
    "rf.fit(xtrain, ytrain)"
   ]
  },
  {
   "cell_type": "code",
   "execution_count": null,
   "metadata": {
    "colab": {
     "base_uri": "https://localhost:8080/"
    },
    "id": "VJRPCg_lotG0",
    "outputId": "a9890c6f-cd36-4b9c-e8d2-0254dbd52ca6"
   },
   "outputs": [
    {
     "name": "stdout",
     "output_type": "stream",
     "text": [
      "0.8918918918918919\n",
      "0.5076923076923077\n"
     ]
    }
   ],
   "source": [
    "print(rf.score(xtrain,ytrain))\n",
    "print(rf.score(xtest,ytest))"
   ]
  },
  {
   "cell_type": "code",
   "execution_count": null,
   "metadata": {
    "id": "bnkFJ1t-sW3E"
   },
   "outputs": [],
   "source": [
    "## GridSearchCV\n",
    "# Define the grid\n",
    "param_grid = {\n",
    "'criterion':['gini','entropy'],\n",
    "'n_estimators': [50, 100, 200, 300],\n",
    "'min_samples_leaf': [1,5,10],\n",
    "'max_depth': [2,4,6,8,10],\n",
    "'max_features': ['auto', 'sqrt'],\n",
    "'min_samples_split': [1,5,10],\n",
    "'bootstrap': [True]}"
   ]
  },
  {
   "cell_type": "code",
   "execution_count": null,
   "metadata": {
    "id": "KurVGj-Ysr9H"
   },
   "outputs": [],
   "source": [
    "# Instantiate GridSearchCV\n",
    "from sklearn.model_selection import GridSearchCV\n",
    "rf_gridsearch = GridSearchCV(\n",
    "estimator=rf,\n",
    "param_grid=param_grid,\n",
    "scoring='accuracy',\n",
    "n_jobs=4,\n",
    "cv=5,\n",
    "refit=True,\n",
    "return_train_score=True)"
   ]
  },
  {
   "cell_type": "code",
   "execution_count": null,
   "metadata": {
    "colab": {
     "base_uri": "https://localhost:8080/"
    },
    "id": "GM7yhEzhszZw",
    "outputId": "e9dcdbaf-698c-4c73-81ba-f5c48308036f"
   },
   "outputs": [
    {
     "data": {
      "text/plain": [
       "GridSearchCV(cv=5, estimator=RandomForestClassifier(random_state=5), n_jobs=4,\n",
       "             param_grid={'bootstrap': [True], 'criterion': ['gini', 'entropy'],\n",
       "                         'max_depth': [2, 4, 6, 8, 10],\n",
       "                         'max_features': ['auto', 'sqrt'],\n",
       "                         'min_samples_leaf': [1, 5, 10],\n",
       "                         'min_samples_split': [1, 5, 10],\n",
       "                         'n_estimators': [50, 100, 200, 300]},\n",
       "             return_train_score=True, scoring='accuracy')"
      ]
     },
     "execution_count": 38,
     "metadata": {},
     "output_type": "execute_result"
    }
   ],
   "source": [
    "# Fit the selected model\n",
    "rf_gridsearch.fit(xtrain, ytrain) "
   ]
  },
  {
   "cell_type": "code",
   "execution_count": null,
   "metadata": {
    "colab": {
     "base_uri": "https://localhost:8080/"
    },
    "id": "5he_LB7rtEBl",
    "outputId": "82e33fbf-223b-4d7f-f08d-dbc6af8062d3"
   },
   "outputs": [
    {
     "data": {
      "text/plain": [
       "{'bootstrap': True,\n",
       " 'criterion': 'entropy',\n",
       " 'max_depth': 10,\n",
       " 'max_features': 'auto',\n",
       " 'min_samples_leaf': 1,\n",
       " 'min_samples_split': 5,\n",
       " 'n_estimators': 300}"
      ]
     },
     "execution_count": 39,
     "metadata": {},
     "output_type": "execute_result"
    }
   ],
   "source": [
    "rf_gridsearch.best_params_"
   ]
  },
  {
   "cell_type": "code",
   "execution_count": null,
   "metadata": {
    "colab": {
     "base_uri": "https://localhost:8080/"
    },
    "id": "aG7K8H9atrvd",
    "outputId": "7c3d69ac-1783-4d21-f6fc-6f09fa778f92"
   },
   "outputs": [
    {
     "name": "stdout",
     "output_type": "stream",
     "text": [
      "0.8774774774774775\n",
      "0.5230769230769231\n"
     ]
    }
   ],
   "source": [
    "rf_train_acc=(rf_gridsearch.score(xtrain,ytrain))\n",
    "print(rf_train_acc)\n",
    "rf_test_acc=(rf_gridsearch.score(xtest,ytest))\n",
    "print(rf_test_acc)"
   ]
  },
  {
   "cell_type": "code",
   "execution_count": null,
   "metadata": {
    "colab": {
     "base_uri": "https://localhost:8080/"
    },
    "id": "HzVxc9LNt2vn",
    "outputId": "c09453fd-1546-4dca-9afb-a65aea66a99a"
   },
   "outputs": [
    {
     "data": {
      "text/plain": [
       "array([1, 2, 0, 2, 0, 1, 0, 1, 0, 0, 2, 2, 0, 0, 2, 0, 1, 1, 0, 0, 1, 0,\n",
       "       2, 2, 2, 0, 2, 1, 0, 0, 0, 0, 0, 1, 0, 0, 0, 0, 0, 0, 0, 0, 0, 0,\n",
       "       0, 0, 0, 0, 0, 0, 0, 2, 0, 0, 0, 1, 2, 2, 0, 0, 0, 1, 1, 2, 0])"
      ]
     },
     "execution_count": 41,
     "metadata": {},
     "output_type": "execute_result"
    }
   ],
   "source": [
    "pred_rf=rf_gridsearch.predict(xtest)\n",
    "pred_rf"
   ]
  },
  {
   "cell_type": "code",
   "execution_count": null,
   "metadata": {
    "colab": {
     "base_uri": "https://localhost:8080/",
     "height": 475
    },
    "id": "uofpsvX8vZUZ",
    "outputId": "f146d220-f51e-4cd1-fae5-ab6a28b0b0bf"
   },
   "outputs": [
    {
     "data": {
      "text/plain": [
       "Text(0.5, 1.0, 'Confusion Matrix')"
      ]
     },
     "execution_count": 42,
     "metadata": {},
     "output_type": "execute_result"
    },
    {
     "data": {
      "image/png": "[encoded data removed]",
      "text/plain": [
       "<Figure size 504x504 with 2 Axes>"
      ]
     },
     "metadata": {
      "needs_background": "light"
     },
     "output_type": "display_data"
    }
   ],
   "source": [
    "#creating confusion matrix\n",
    "from sklearn.metrics import confusion_matrix\n",
    "\n",
    "cm=confusion_matrix(ytest,pred_rf)\n",
    "plt.figure(figsize=(7,7))\n",
    "sns.heatmap(cm,annot=True)\n",
    "plt.xlabel('Predicted Outcomes')\n",
    "plt.ylabel('Actual Outcomes')\n",
    "plt.title('Confusion Matrix')"
   ]
  },
  {
   "cell_type": "markdown",
   "metadata": {
    "id": "gsabwvmgvoDL"
   },
   "source": [
    "# CLASSIFICATION USING DECISION TREE "
   ]
  },
  {
   "cell_type": "code",
   "execution_count": null,
   "metadata": {
    "colab": {
     "base_uri": "https://localhost:8080/"
    },
    "id": "uenE1Ie1vh7p",
    "outputId": "38bf6d24-c255-4e6f-d311-6de070c7b90a"
   },
   "outputs": [
    {
     "data": {
      "text/plain": [
       "DecisionTreeClassifier(random_state=5)"
      ]
     },
     "execution_count": 43,
     "metadata": {},
     "output_type": "execute_result"
    }
   ],
   "source": [
    "#Import DecisionTreeRegressor(before Pruning)\n",
    "from sklearn.tree import DecisionTreeClassifier\n",
    "from sklearn import metrics\n",
    "\n",
    "#Create a decision tree regressor object from DecisionTreeRegressor Class\n",
    "dt=DecisionTreeClassifier(random_state=5) \n",
    "\n",
    "#fit the decision tree regressor with training data represented by X_train and y_train\n",
    "dt.fit(xtrain,ytrain)"
   ]
  },
  {
   "cell_type": "code",
   "execution_count": null,
   "metadata": {
    "colab": {
     "base_uri": "https://localhost:8080/"
    },
    "id": "12U9a7uk8Px2",
    "outputId": "e01985ec-8b44-4c4e-a09b-46facf0db0b0"
   },
   "outputs": [
    {
     "name": "stdout",
     "output_type": "stream",
     "text": [
      "0.8918918918918919\n",
      "0.49230769230769234\n"
     ]
    }
   ],
   "source": [
    "print(dt.score(xtrain,ytrain))\n",
    "print(dt.score(xtest,ytest))"
   ]
  },
  {
   "cell_type": "code",
   "execution_count": null,
   "metadata": {
    "colab": {
     "base_uri": "https://localhost:8080/"
    },
    "id": "u8jy4Yci8ag4",
    "outputId": "7e1b1290-bf1a-41c0-bd1a-bafa2f9455bb"
   },
   "outputs": [
    {
     "data": {
      "text/plain": [
       "GridSearchCV(cv=5, estimator=DecisionTreeClassifier(random_state=5), n_jobs=-1,\n",
       "             param_grid={'criterion': ['gini', 'entropy'],\n",
       "                         'max_depth': range(2, 10),\n",
       "                         'min_samples_leaf': range(1, 15),\n",
       "                         'min_samples_split': range(2, 15),\n",
       "                         'splitter': ['best', 'random']})"
      ]
     },
     "execution_count": 45,
     "metadata": {},
     "output_type": "execute_result"
    }
   ],
   "source": [
    "#Pruning of Decision Tree\n",
    "from sklearn.model_selection import GridSearchCV\n",
    "grid_param={\"criterion\":[\"gini\",\"entropy\"],\n",
    "           \"splitter\":[\"best\",\"random\"],\n",
    "           \"max_depth\":range(2,10,1),\n",
    "           \"min_samples_leaf\":range(1,15,1),\n",
    "           \"min_samples_split\":range(2,15,1)\n",
    "           }\n",
    "dt_gridsearch=GridSearchCV(estimator=dt,param_grid=grid_param,cv=5,n_jobs=-1)\n",
    "dt_gridsearch.fit(xtrain,ytrain)"
   ]
  },
  {
   "cell_type": "code",
   "execution_count": null,
   "metadata": {
    "colab": {
     "base_uri": "https://localhost:8080/"
    },
    "id": "CuxLa52s9SmE",
    "outputId": "f5962b54-4e0b-4ef6-e44d-12efdda4ad5d"
   },
   "outputs": [
    {
     "name": "stdout",
     "output_type": "stream",
     "text": [
      "{'criterion': 'gini', 'max_depth': 9, 'min_samples_leaf': 1, 'min_samples_split': 3, 'splitter': 'random'}\n"
     ]
    }
   ],
   "source": [
    "print(dt_gridsearch.best_params_)"
   ]
  },
  {
   "cell_type": "code",
   "execution_count": null,
   "metadata": {
    "colab": {
     "base_uri": "https://localhost:8080/"
    },
    "id": "JdPlukTg-O29",
    "outputId": "5dfc4540-3e52-49dc-ecc7-9e961c0fd21f"
   },
   "outputs": [
    {
     "name": "stdout",
     "output_type": "stream",
     "text": [
      "0.8396396396396396\n",
      "0.4461538461538462\n"
     ]
    }
   ],
   "source": [
    "dt_train_acc=(dt_gridsearch.score(xtrain,ytrain))\n",
    "print(dt_train_acc)\n",
    "dt_test_acc=(dt_gridsearch.score(xtest,ytest))\n",
    "print(dt_test_acc)"
   ]
  },
  {
   "cell_type": "code",
   "execution_count": null,
   "metadata": {
    "colab": {
     "base_uri": "https://localhost:8080/"
    },
    "id": "j68uyb3y95dg",
    "outputId": "721b18ee-9949-4ee8-f975-cab033180e88"
   },
   "outputs": [
    {
     "data": {
      "text/plain": [
       "array([0, 2, 1, 2, 0, 1, 0, 1, 0, 0, 1, 2, 0, 0, 2, 0, 1, 1, 0, 1, 1, 0,\n",
       "       2, 2, 2, 0, 2, 1, 0, 0, 0, 0, 0, 1, 0, 0, 0, 0, 1, 0, 0, 0, 0, 0,\n",
       "       1, 0, 0, 0, 0, 1, 0, 1, 0, 1, 1, 1, 2, 2, 1, 1, 0, 1, 1, 1, 0])"
      ]
     },
     "execution_count": 48,
     "metadata": {},
     "output_type": "execute_result"
    }
   ],
   "source": [
    "pred_dt=dt_gridsearch.predict(xtest)\n",
    "pred_dt"
   ]
  },
  {
   "cell_type": "code",
   "execution_count": null,
   "metadata": {
    "colab": {
     "base_uri": "https://localhost:8080/",
     "height": 475
    },
    "id": "Y9xwz1jh-MLn",
    "outputId": "a8ed02c8-7d90-46cc-fe3a-533659b3f4b8"
   },
   "outputs": [
    {
     "data": {
      "text/plain": [
       "Text(0.5, 1.0, 'Confusion Matrix')"
      ]
     },
     "execution_count": 49,
     "metadata": {},
     "output_type": "execute_result"
    },
    {
     "data": {
      "image/png": "[encoded data removed]",
      "text/plain": [
       "<Figure size 504x504 with 2 Axes>"
      ]
     },
     "metadata": {
      "needs_background": "light"
     },
     "output_type": "display_data"
    }
   ],
   "source": [
    "#creating confusion matrix\n",
    "from sklearn.metrics import confusion_matrix\n",
    "\n",
    "cm=confusion_matrix(ytest,pred_dt)\n",
    "plt.figure(figsize=(7,7))\n",
    "sns.heatmap(cm,annot=True)\n",
    "plt.xlabel('Predicted Outcomes')\n",
    "plt.ylabel('Actual Outcomes')\n",
    "plt.title('Confusion Matrix')"
   ]
  },
  {
   "cell_type": "markdown",
   "metadata": {
    "id": "nHTyTBay_pum"
   },
   "source": [
    "# CLASSIFICATION USING LOGISTIC REGRESSION"
   ]
  },
  {
   "cell_type": "code",
   "execution_count": null,
   "metadata": {
    "colab": {
     "base_uri": "https://localhost:8080/"
    },
    "id": "e5ODkbq4-hBJ",
    "outputId": "ec24c1c1-ed43-4cd1-dddd-708a15c2816e"
   },
   "outputs": [
    {
     "data": {
      "text/plain": [
       "LogisticRegression()"
      ]
     },
     "execution_count": 50,
     "metadata": {},
     "output_type": "execute_result"
    }
   ],
   "source": [
    "from sklearn.linear_model import LogisticRegression\n",
    "logreg=LogisticRegression()\n",
    "\n",
    "logreg.fit(xtrain,ytrain)"
   ]
  },
  {
   "cell_type": "code",
   "execution_count": null,
   "metadata": {
    "colab": {
     "base_uri": "https://localhost:8080/"
    },
    "id": "8gxb2rrp_2Ic",
    "outputId": "8911b1f8-1fc3-478a-a6f3-87e82cc50182"
   },
   "outputs": [
    {
     "name": "stdout",
     "output_type": "stream",
     "text": [
      "0.5621621621621622\n",
      "0.5230769230769231\n"
     ]
    }
   ],
   "source": [
    "logreg_train_acc=(logreg.score(xtrain,ytrain))\n",
    "print(logreg_train_acc)\n",
    "logreg_test_acc=(logreg.score(xtest,ytest))\n",
    "print(logreg_test_acc)"
   ]
  },
  {
   "cell_type": "code",
   "execution_count": null,
   "metadata": {
    "colab": {
     "base_uri": "https://localhost:8080/"
    },
    "id": "3-Vdtly-AElq",
    "outputId": "cb217dd1-4fd1-4adc-a3b4-ff2ddf7d3488"
   },
   "outputs": [
    {
     "data": {
      "text/plain": [
       "array([0, 0, 1, 2, 0, 0, 1, 0, 0, 0, 2, 1, 0, 1, 1, 0, 2, 1, 2, 0, 2, 0,\n",
       "       2, 2, 1, 0, 2, 0, 1, 2, 0, 0, 1, 0, 2, 0, 0, 0, 1, 0, 0, 0, 1, 0,\n",
       "       1, 0, 0, 0, 0, 1, 1, 2, 0, 1, 0, 1, 0, 2, 0, 1, 0, 0, 2, 2, 0])"
      ]
     },
     "execution_count": 52,
     "metadata": {},
     "output_type": "execute_result"
    }
   ],
   "source": [
    "pred_lr=logreg.predict(xtest)\n",
    "pred_lr"
   ]
  },
  {
   "cell_type": "code",
   "execution_count": null,
   "metadata": {
    "colab": {
     "base_uri": "https://localhost:8080/",
     "height": 475
    },
    "id": "MCx85UV9AKdt",
    "outputId": "9af5244f-172b-440a-e7c6-caf3d75b35cd"
   },
   "outputs": [
    {
     "data": {
      "text/plain": [
       "Text(0.5, 1.0, 'Confusion Matrix')"
      ]
     },
     "execution_count": 53,
     "metadata": {},
     "output_type": "execute_result"
    },
    {
     "data": {
      "image/png": "[encoded data removed]",
      "text/plain": [
       "<Figure size 504x504 with 2 Axes>"
      ]
     },
     "metadata": {
      "needs_background": "light"
     },
     "output_type": "display_data"
    }
   ],
   "source": [
    "#creating confusion matrix\n",
    "from sklearn.metrics import confusion_matrix\n",
    "\n",
    "cm=confusion_matrix(ytest,pred_lr)\n",
    "plt.figure(figsize=(7,7))\n",
    "sns.heatmap(cm,annot=True)\n",
    "plt.xlabel('Predicted Outcomes')\n",
    "plt.ylabel('Actual Outcomes')\n",
    "plt.title('Confusion Matrix')"
   ]
  },
  {
   "cell_type": "markdown",
   "metadata": {
    "id": "pXMUpyYTATfq"
   },
   "source": [
    "# CLASSIFICATION USING NAIVE BAYES CLASSIFIER"
   ]
  },
  {
   "cell_type": "code",
   "execution_count": null,
   "metadata": {
    "colab": {
     "base_uri": "https://localhost:8080/"
    },
    "id": "f3_7Ts_fAOm7",
    "outputId": "02772419-2b45-4271-d6df-0fab558972d0"
   },
   "outputs": [
    {
     "data": {
      "text/plain": [
       "GaussianNB()"
      ]
     },
     "execution_count": 54,
     "metadata": {},
     "output_type": "execute_result"
    }
   ],
   "source": [
    "from sklearn.naive_bayes import GaussianNB\n",
    "gnb = GaussianNB()\n",
    "\n",
    "gnb.fit(xtrain,ytrain)"
   ]
  },
  {
   "cell_type": "code",
   "execution_count": null,
   "metadata": {
    "colab": {
     "base_uri": "https://localhost:8080/"
    },
    "id": "BxcdqRYVAc5R",
    "outputId": "7f653d79-a362-4759-ebae-2fac21b8c6ea"
   },
   "outputs": [
    {
     "name": "stdout",
     "output_type": "stream",
     "text": [
      "0.46126126126126127\n",
      "0.3230769230769231\n"
     ]
    }
   ],
   "source": [
    "gnb_train_acc=(gnb.score(xtrain,ytrain))\n",
    "print(gnb_train_acc)\n",
    "gnb_test_acc=(gnb.score(xtest,ytest))\n",
    "print(gnb_test_acc)"
   ]
  },
  {
   "cell_type": "code",
   "execution_count": null,
   "metadata": {
    "colab": {
     "base_uri": "https://localhost:8080/"
    },
    "id": "H0LeBuyCAqLL",
    "outputId": "55176c6d-c085-4144-fceb-48f740317e1f"
   },
   "outputs": [
    {
     "data": {
      "text/plain": [
       "array([1, 1, 1, 1, 0, 1, 1, 1, 0, 0, 2, 1, 0, 1, 1, 1, 2, 1, 2, 0, 2, 0,\n",
       "       2, 2, 1, 0, 2, 2, 1, 2, 0, 1, 1, 1, 1, 0, 1, 0, 1, 0, 2, 0, 1, 1,\n",
       "       1, 1, 0, 1, 1, 1, 0, 2, 1, 1, 1, 1, 2, 2, 1, 1, 1, 1, 1, 2, 2])"
      ]
     },
     "execution_count": 56,
     "metadata": {},
     "output_type": "execute_result"
    }
   ],
   "source": [
    "pred_gnb=gnb.predict(xtest)\n",
    "pred_gnb"
   ]
  },
  {
   "cell_type": "code",
   "execution_count": null,
   "metadata": {
    "colab": {
     "base_uri": "https://localhost:8080/",
     "height": 475
    },
    "id": "xdc5-GiQA1Il",
    "outputId": "4ffc4d86-033a-4450-e892-f8e236c2e05d"
   },
   "outputs": [
    {
     "data": {
      "text/plain": [
       "Text(0.5, 1.0, 'Confusion Matrix')"
      ]
     },
     "execution_count": 57,
     "metadata": {},
     "output_type": "execute_result"
    },
    {
     "data": {
      "image/png": "[encoded data removed]",
      "text/plain": [
       "<Figure size 504x504 with 2 Axes>"
      ]
     },
     "metadata": {
      "needs_background": "light"
     },
     "output_type": "display_data"
    }
   ],
   "source": [
    "#creating confusion matrix\n",
    "from sklearn.metrics import confusion_matrix\n",
    "\n",
    "cm=confusion_matrix(ytest,pred_gnb)\n",
    "plt.figure(figsize=(7,7))\n",
    "sns.heatmap(cm,annot=True)\n",
    "plt.xlabel('Predicted Outcomes')\n",
    "plt.ylabel('Actual Outcomes')\n",
    "plt.title('Confusion Matrix')"
   ]
  },
  {
   "cell_type": "markdown",
   "metadata": {
    "id": "-H0bL7FaONg-"
   },
   "source": [
    "# CLASSIFICATION USING K NEAREST NEIGHBORS"
   ]
  },
  {
   "cell_type": "code",
   "execution_count": null,
   "metadata": {
    "colab": {
     "base_uri": "https://localhost:8080/"
    },
    "id": "6SohyJKPOeME",
    "outputId": "dacb46f1-a967-49c6-8e47-98bc13198591"
   },
   "outputs": [
    {
     "data": {
      "text/plain": [
       "KNeighborsClassifier(n_neighbors=23)"
      ]
     },
     "execution_count": 63,
     "metadata": {},
     "output_type": "execute_result"
    }
   ],
   "source": [
    "from sklearn.neighbors import KNeighborsClassifier\n",
    "knn_classifier = KNeighborsClassifier(n_neighbors=23)\n",
    "knn_classifier.fit(xtrain,ytrain)"
   ]
  },
  {
   "cell_type": "code",
   "execution_count": null,
   "metadata": {
    "colab": {
     "base_uri": "https://localhost:8080/"
    },
    "id": "CclFNf_VRURa",
    "outputId": "71440785-20ca-4765-b5ae-c51aca5fac96"
   },
   "outputs": [
    {
     "data": {
      "text/plain": [
       "array([1, 1, 0, 1, 1, 0, 1, 0, 0, 0, 2, 0, 0, 1, 2, 1, 1, 1, 2, 2, 1, 0,\n",
       "       2, 2, 0, 0, 1, 1, 0, 0, 1, 0, 0, 0, 1, 2, 0, 2, 0, 2, 0, 0, 0, 0,\n",
       "       0, 0, 0, 0, 0, 0, 0, 2, 0, 1, 0, 1, 2, 2, 0, 0, 0, 1, 1, 2, 0])"
      ]
     },
     "execution_count": 64,
     "metadata": {},
     "output_type": "execute_result"
    }
   ],
   "source": [
    "pred_knn=knn_classifier.predict(xtest)\n",
    "pred_knn"
   ]
  },
  {
   "cell_type": "code",
   "execution_count": null,
   "metadata": {
    "colab": {
     "base_uri": "https://localhost:8080/"
    },
    "id": "lmgFRDVBRphi",
    "outputId": "cadb9418-333d-439b-f320-1efb252ae5bb"
   },
   "outputs": [
    {
     "name": "stdout",
     "output_type": "stream",
     "text": [
      "0.6558558558558558\n",
      "0.4461538461538462\n"
     ]
    }
   ],
   "source": [
    "knn_train_acc=(knn_classifier.score(xtrain,ytrain))\n",
    "print(knn_train_acc)\n",
    "knn_test_acc=(knn_classifier.score(xtest,ytest))\n",
    "print(knn_test_acc)"
   ]
  },
  {
   "cell_type": "code",
   "execution_count": null,
   "metadata": {
    "colab": {
     "base_uri": "https://localhost:8080/",
     "height": 475
    },
    "id": "KUuXwnSxSM1J",
    "outputId": "decda96c-412d-430d-ca4b-a6807675fa45"
   },
   "outputs": [
    {
     "data": {
      "text/plain": [
       "Text(0.5, 1.0, 'Confusion Matrix')"
      ]
     },
     "execution_count": 66,
     "metadata": {},
     "output_type": "execute_result"
    },
    {
     "data": {
      "image/png": "[encoded data removed]",
      "text/plain": [
       "<Figure size 504x504 with 2 Axes>"
      ]
     },
     "metadata": {
      "needs_background": "light"
     },
     "output_type": "display_data"
    }
   ],
   "source": [
    "#creating confusion matrix\n",
    "from sklearn.metrics import confusion_matrix\n",
    "\n",
    "cm=confusion_matrix(ytest,pred_knn)\n",
    "plt.figure(figsize=(7,7))\n",
    "sns.heatmap(cm,annot=True)\n",
    "plt.xlabel('Predicted Outcomes')\n",
    "plt.ylabel('Actual Outcomes')\n",
    "plt.title('Confusion Matrix')"
   ]
  },
  {
   "cell_type": "markdown",
   "metadata": {
    "id": "bM3thyCKS_Iw"
   },
   "source": [
    "Using elbow method to choose the value for K"
   ]
  },
  {
   "cell_type": "code",
   "execution_count": null,
   "metadata": {
    "colab": {
     "base_uri": "https://localhost:8080/",
     "height": 422
    },
    "id": "A4zXLdUmSjKR",
    "outputId": "98c94d13-a739-408c-fbe2-e56338df4dff"
   },
   "outputs": [
    {
     "data": {
      "text/plain": [
       "Text(0, 0.5, 'Error Rate')"
      ]
     },
     "execution_count": 67,
     "metadata": {},
     "output_type": "execute_result"
    },
    {
     "data": {
      "image/png": "[encoded data removed]",
      "text/plain": [
       "<Figure size 720x432 with 1 Axes>"
      ]
     },
     "metadata": {
      "needs_background": "light"
     },
     "output_type": "display_data"
    }
   ],
   "source": [
    "error_rate = []\n",
    "  \n",
    "for i in range(1, 40):\n",
    "      \n",
    "    knn_classifier = KNeighborsClassifier(n_neighbors = i)\n",
    "    knn_classifier.fit(xtrain, ytrain)\n",
    "    pred_i = knn_classifier.predict(xtest)\n",
    "    error_rate.append(np.mean(pred_i != ytest))\n",
    "  \n",
    "plt.figure(figsize =(10, 6))\n",
    "plt.plot(range(1, 40), error_rate, color ='blue',\n",
    "                linestyle ='dashed', marker ='o',\n",
    "         markerfacecolor ='red', markersize = 10)\n",
    "  \n",
    "plt.title('Error Rate vs. K Value')\n",
    "plt.xlabel('K')\n",
    "plt.ylabel('Error Rate')"
   ]
  },
  {
   "cell_type": "code",
   "execution_count": null,
   "metadata": {
    "colab": {
     "base_uri": "https://localhost:8080/"
    },
    "id": "Wic-j9PjUkRB",
    "outputId": "f270d3af-d4ab-4719-84e8-8aa9443cdcc6"
   },
   "outputs": [
    {
     "data": {
      "text/plain": [
       "KNeighborsClassifier(n_neighbors=2)"
      ]
     },
     "execution_count": 68,
     "metadata": {},
     "output_type": "execute_result"
    }
   ],
   "source": [
    "from sklearn.neighbors import KNeighborsClassifier\n",
    "knn_classifier = KNeighborsClassifier(n_neighbors=2)\n",
    "knn_classifier.fit(xtrain,ytrain)"
   ]
  },
  {
   "cell_type": "code",
   "execution_count": null,
   "metadata": {
    "colab": {
     "base_uri": "https://localhost:8080/"
    },
    "id": "m3ynkmhXUzsC",
    "outputId": "8b4db59b-feab-40b1-a5a5-9e4f31ef984b"
   },
   "outputs": [
    {
     "data": {
      "text/plain": [
       "array([1, 0, 0, 2, 0, 0, 0, 0, 0, 0, 0, 2, 0, 0, 0, 0, 1, 0, 0, 0, 1, 0,\n",
       "       2, 2, 1, 0, 1, 0, 0, 0, 0, 0, 0, 0, 0, 0, 0, 0, 0, 0, 0, 0, 0, 0,\n",
       "       0, 0, 0, 0, 0, 0, 0, 2, 0, 0, 0, 0, 2, 2, 0, 0, 0, 0, 0, 2, 0])"
      ]
     },
     "execution_count": 69,
     "metadata": {},
     "output_type": "execute_result"
    }
   ],
   "source": [
    "pred_knn=knn_classifier.predict(xtest)\n",
    "pred_knn"
   ]
  },
  {
   "cell_type": "code",
   "execution_count": null,
   "metadata": {
    "colab": {
     "base_uri": "https://localhost:8080/"
    },
    "id": "Y7sOKEsjU6SP",
    "outputId": "df0c77cb-5950-4679-8ad8-f259e3761cc3"
   },
   "outputs": [
    {
     "name": "stdout",
     "output_type": "stream",
     "text": [
      "0.69009009009009\n",
      "0.6307692307692307\n"
     ]
    }
   ],
   "source": [
    "knn_train_acc=(knn_classifier.score(xtrain,ytrain))\n",
    "print(knn_train_acc)\n",
    "knn_test_acc=(knn_classifier.score(xtest,ytest))\n",
    "print(knn_test_acc)"
   ]
  },
  {
   "cell_type": "code",
   "execution_count": null,
   "metadata": {
    "colab": {
     "base_uri": "https://localhost:8080/",
     "height": 475
    },
    "id": "6nexhfX7U_bO",
    "outputId": "7b81f8b9-1685-4582-f269-b77ff5242e8f"
   },
   "outputs": [
    {
     "data": {
      "text/plain": [
       "Text(0.5, 1.0, 'Confusion Matrix')"
      ]
     },
     "execution_count": 71,
     "metadata": {},
     "output_type": "execute_result"
    },
    {
     "data": {
      "image/png": "[encoded data removed]",
      "text/plain": [
       "<Figure size 504x504 with 2 Axes>"
      ]
     },
     "metadata": {
      "needs_background": "light"
     },
     "output_type": "display_data"
    }
   ],
   "source": [
    "#creating confusion matrix\n",
    "from sklearn.metrics import confusion_matrix\n",
    "\n",
    "cm=confusion_matrix(ytest,pred_knn)\n",
    "plt.figure(figsize=(7,7))\n",
    "sns.heatmap(cm,annot=True)\n",
    "plt.xlabel('Predicted Outcomes')\n",
    "plt.ylabel('Actual Outcomes')\n",
    "plt.title('Confusion Matrix')"
   ]
  },
  {
   "cell_type": "markdown",
   "metadata": {
    "id": "KpFHeEKTj-IL"
   },
   "source": [
    "Multiple Bar Diagram"
   ]
  },
  {
   "cell_type": "code",
   "execution_count": null,
   "metadata": {
    "colab": {
     "base_uri": "https://localhost:8080/",
     "height": 416
    },
    "id": "mcjMfFQIj7wk",
    "outputId": "cecb3571-f7bd-4f27-e863-538c53d7abef"
   },
   "outputs": [
    {
     "data": {
      "image/png": "[encoded data removed]",
      "text/plain": [
       "<Figure size 720x432 with 1 Axes>"
      ]
     },
     "metadata": {
      "needs_background": "light"
     },
     "output_type": "display_data"
    }
   ],
   "source": [
    "X = ['Random Forest','Decision Tree','Logistic Regression','Naive Bayes','KNN']\n",
    "Y = [rf_train_acc,dt_train_acc,logreg_train_acc,gnb_train_acc,knn_train_acc]\n",
    "Z = [rf_test_acc,dt_test_acc,logreg_test_acc,gnb_test_acc,knn_test_acc]\n",
    "  \n",
    "X_axis = np.arange(len(X))\n",
    "\n",
    "plt.figure(figsize=(10,6))\n",
    "plt.bar(X_axis - 0.2, Y, 0.4, label = 'Train Accuracy')\n",
    "plt.bar(X_axis + 0.2, Z, 0.4, label = 'Test Accuracy')\n",
    "  \n",
    "plt.xticks(X_axis, X)\n",
    "plt.xlabel(\"\\nClassification Algorithms\")\n",
    "plt.ylabel(\"Accuracy\")\n",
    "plt.title(\"Comparison between the accuracies of the different classification models \")\n",
    "plt.legend()\n",
    "plt.show()"
   ]
  },
  {
   "cell_type": "markdown",
   "metadata": {
    "id": "HYXXFpitEGOr"
   },
   "source": [
    "As we can observe, that K Nearest Neighbors algorithm is giving us the best results with an accuracy of 63% for the test dataset. There is also no issue of overfitting for KNN unlike Random Forest or Decision Tree algorithm. Logistic Regression also performed well for this multiclass classification problem but it didn't quite reach the standard set by KNN. Naive Bayes Classifier was unable to perform well as both it's accuracy for training and testing dataset were very low."
   ]
  }
 ],
 "metadata": {
  "colab": {
   "collapsed_sections": [],
   "name": "PIZZA SALES CLASSIFICATION.ipynb",
   "provenance": []
  },
  "kernelspec": {
   "display_name": "Python 3",
   "language": "python",
   "name": "python3"
  },
  "language_info": {
   "codemirror_mode": {
    "name": "ipython",
    "version": 3
   },
   "file_extension": ".py",
   "mimetype": "text/x-python",
   "name": "python",
   "nbconvert_exporter": "python",
   "pygments_lexer": "ipython3",
   "version": "3.8.5"
  }
 },
 "nbformat": 4,
 "nbformat_minor": 1
}
